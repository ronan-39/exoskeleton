{
 "cells": [
  {
   "cell_type": "code",
   "execution_count": 1,
   "id": "3ca18e3e",
   "metadata": {},
   "outputs": [],
   "source": [
    "import os\n",
    "\n",
    "import gymnasium as gym\n",
    "import pybullet_envs_gymnasium\n",
    "from stable_baselines3 import SAC\n",
    "import numpy as np\n",
    "import math\n",
    "import torch\n",
    "import torch.nn as nn\n",
    "import matplotlib.pyplot as plt\n",
    "from torch.utils.data import DataLoader, Dataset, random_split"
   ]
  },
  {
   "cell_type": "markdown",
   "id": "7265dc86",
   "metadata": {},
   "source": [
    "### Generate training data\n",
    "Since we are training a sequence to sequence predictor which will take state as input and state as output, we will just need to generate sequences of states"
   ]
  },
  {
   "cell_type": "code",
   "execution_count": 2,
   "id": "f585b4a5",
   "metadata": {},
   "outputs": [
    {
     "name": "stderr",
     "output_type": "stream",
     "text": [
      "pybullet build time: May 12 2025 02:32:36\n"
     ]
    }
   ],
   "source": [
    "env_name = \"Walker2DBulletEnv-v0\"\n",
    "env = gym.make(env_name, render_mode='rgb_array')\n",
    "model = SAC.load(\"./100k_steps_run.zip\", env=env)"
   ]
  },
  {
   "cell_type": "code",
   "execution_count": null,
   "id": "f7c0b2b0",
   "metadata": {},
   "outputs": [
    {
     "name": "stdout",
     "output_type": "stream",
     "text": [
      "argv[0]=\n",
      "argv[0]=\n"
     ]
    }
   ],
   "source": [
    "total_timesteps = 10_000\n",
    "\n",
    "states = np.zeros((total_timesteps, 16))\n",
    "episode_ends = []\n",
    "\n",
    "robot = env.unwrapped.robot\n",
    "obs, info = env.reset()\n",
    "for i in range(total_timesteps):\n",
    "    action, _states = model.predict(obs, deterministic=True)\n",
    "    obs, reward, done, truncated, info = env.step(action)\n",
    "    state_o = robot.robot_body.current_orientation()\n",
    "    state_j = np.array([j.get_state() for j in robot.ordered_joints]).flatten()\n",
    "    states[i] = np.concat([state_o, state_j])\n",
    "    if truncated or done:\n",
    "        obs, info = env.reset()\n",
    "        episode_ends.append(i)\n",
    "\n",
    "episode_ends = np.array(episode_ends)\n",
    "\n",
    "walker_a_dataset = {\n",
    "    'state': states,\n",
    "    'episode_ends': episode_ends\n",
    "}\n",
    "\n",
    "torch.save(walker_a_dataset, f'./walker_datasets/walker_bad_dict_{total_timesteps}_steps.pt')"
   ]
  },
  {
   "cell_type": "code",
   "execution_count": 3,
   "id": "81ab9666",
   "metadata": {},
   "outputs": [],
   "source": [
    "def create_sample_indices(\n",
    "        episode_ends,\n",
    "        sequence_length,\n",
    "        pad_before,\n",
    "        pad_after\n",
    "):\n",
    "    indices = []\n",
    "    for i in range(len(episode_ends)):\n",
    "        start_idx = 0\n",
    "        if i > 0:\n",
    "            start_idx = episode_ends[i-1]\n",
    "        end_idx = episode_ends[i]\n",
    "        episode_length = end_idx - start_idx\n",
    "\n",
    "        min_start = -pad_before\n",
    "        max_start = episode_length - sequence_length + pad_after\n",
    "\n",
    "        # range stops one idx before end\n",
    "        for idx in range(min_start, max_start+1):\n",
    "            buffer_start_idx = max(idx, 0) + start_idx\n",
    "            buffer_end_idx = min(idx+sequence_length, episode_length) + start_idx\n",
    "            start_offset = buffer_start_idx - (idx+start_idx)\n",
    "            end_offset = (idx+sequence_length+start_idx) - buffer_end_idx\n",
    "            sample_start_idx = 0 + start_offset\n",
    "            sample_end_idx = sequence_length - end_offset\n",
    "            indices.append([\n",
    "                buffer_start_idx, buffer_end_idx,\n",
    "                sample_start_idx, sample_end_idx])\n",
    "    indices = np.array(indices)\n",
    "    return indices\n",
    "\n",
    "\n",
    "def sample_sequence(train_data, sequence_length,\n",
    "                    buffer_start_idx, buffer_end_idx,\n",
    "                    sample_start_idx, sample_end_idx):\n",
    "    result = dict()\n",
    "    for key, input_arr in train_data.items():\n",
    "        sample = input_arr[buffer_start_idx:buffer_end_idx]\n",
    "        data = sample\n",
    "        if (sample_start_idx > 0) or (sample_end_idx < sequence_length):\n",
    "            data = np.zeros(\n",
    "                shape=(sequence_length,) + input_arr.shape[1:],\n",
    "                dtype=input_arr.dtype)\n",
    "            if sample_start_idx > 0:\n",
    "                data[:sample_start_idx] = sample[0]\n",
    "            if sample_end_idx < sequence_length:\n",
    "                data[sample_end_idx:] = sample[-1]\n",
    "            data[sample_start_idx:sample_end_idx] = sample\n",
    "        result[key] = data\n",
    "    return result\n",
    "\n",
    "class WalkerWalkingDataset(torch.utils.data.Dataset):\n",
    "    def __init__(\n",
    "        self,\n",
    "        dataset_path,\n",
    "        pred_horizon,\n",
    "        obs_horizon,\n",
    "    ):\n",
    "        dataset = torch.load(dataset_path, weights_only=False)\n",
    "        # states = dataset['state']\n",
    "        episode_ends = dataset['episode_ends']\n",
    "        # print(episode_ends)\n",
    "\n",
    "        indices = create_sample_indices(\n",
    "            episode_ends=episode_ends,\n",
    "            sequence_length=pred_horizon,\n",
    "            # add padding such that each timestep in the dataset are seen\n",
    "            pad_before=obs_horizon-1,\n",
    "            pad_after=0\n",
    "        )\n",
    "\n",
    "        training_data = {'state': dataset['state'][:]}\n",
    "\n",
    "        self.indices = indices\n",
    "        self.train_data = training_data\n",
    "        self.pred_horizon = pred_horizon\n",
    "        self.obs_horizon = obs_horizon\n",
    "\n",
    "    def __len__(self):\n",
    "        return len(self.indices)\n",
    "    \n",
    "    def __getitem__(self, idx):\n",
    "        buffer_start_idx, buffer_end_idx, sample_start_idx, sample_end_idx = self.indices[idx]\n",
    "\n",
    "        nsample = sample_sequence(\n",
    "            train_data=self.train_data,\n",
    "            sequence_length=self.pred_horizon,\n",
    "            buffer_start_idx=buffer_start_idx,\n",
    "            buffer_end_idx=buffer_end_idx,\n",
    "            sample_start_idx=sample_start_idx,\n",
    "            sample_end_idx=sample_end_idx\n",
    "        )\n",
    "\n",
    "        # nsample['state'] = nsample['state'][:self.obs_horizon,:]\n",
    "        return nsample\n",
    "        "
   ]
  },
  {
   "cell_type": "code",
   "execution_count": null,
   "id": "2b2c5c75",
   "metadata": {},
   "outputs": [
    {
     "name": "stdout",
     "output_type": "stream",
     "text": [
      "batch['state'].shape: torch.Size([64, 20, 16])\n"
     ]
    }
   ],
   "source": [
    "extracted_dataset_path = './walker_datasets/walker_bad_dict_10000_steps.pt'\n",
    "obs_horizon = 10\n",
    "pred_horizon = 20\n",
    "\n",
    "walker_dataset = WalkerWalkingDataset(\n",
    "    dataset_path=extracted_dataset_path,\n",
    "    pred_horizon=pred_horizon,\n",
    "    obs_horizon=obs_horizon,\n",
    ")\n",
    "\n",
    "train_size = int(0.8 * len(walker_dataset))\n",
    "val_size = len(walker_dataset) - train_size \n",
    "\n",
    "train_dataset, val_dataset = random_split(walker_dataset, [train_size, val_size])\n",
    "\n",
    "walker_train_dataloader = torch.utils.data.DataLoader(\n",
    "    train_dataset,\n",
    "    batch_size=64,\n",
    "    num_workers=1,\n",
    "    shuffle=True, # set this to False to visualize the dataset\n",
    "    # accelerate cpu-gpu transfer\n",
    "    pin_memory=True,\n",
    "    # don't kill worker process afte each epoch\n",
    "    persistent_workers=True\n",
    ")\n",
    "\n",
    "walker_val_dataloader = torch.utils.data.DataLoader(\n",
    "    val_dataset,\n",
    "    batch_size=64,\n",
    "    num_workers=1,\n",
    "    shuffle=False, # set this to False to visualize the dataset\n",
    "    # accelerate cpu-gpu transfer\n",
    "    pin_memory=True,\n",
    "    # don't kill worker process afte each epoch\n",
    "    persistent_workers=True\n",
    ")\n",
    "\n",
    "\n",
    "# visualize data in batch\n",
    "batch = next(iter(walker_val_dataloader))\n",
    "print(\"batch['state'].shape:\", batch['state'].shape)\n"
   ]
  },
  {
   "cell_type": "markdown",
   "id": "6a935b11",
   "metadata": {},
   "source": [
    "### Visualize a squence"
   ]
  },
  {
   "cell_type": "code",
   "execution_count": 361,
   "id": "0edd3eb4",
   "metadata": {},
   "outputs": [
    {
     "name": "stdout",
     "output_type": "stream",
     "text": [
      "(0.0044371165801891654, 0.0)\n",
      "(-0.09436906908366277, 0.0)\n",
      "(-0.03077096391556551, 0.0)\n",
      "(0.09579486718449232, 0.0)\n",
      "(0.006947752355271869, 0.0)\n",
      "(-0.029008095780355944, 0.0)\n"
     ]
    },
    {
     "data": {
      "image/png": "[encoded data removed]",
      "text/plain": [
       "<Figure size 640x480 with 1 Axes>"
      ]
     },
     "metadata": {},
     "output_type": "display_data"
    }
   ],
   "source": [
    "from IPython import display\n",
    "torch.set_printoptions(precision=3, sci_mode=False)\n",
    "import time\n",
    "\n",
    "env_name = \"Walker2DBulletEnv-v0\"\n",
    "env = gym.make(env_name, render_mode='rgb_array')\n",
    "\n",
    "seq = batch['state'][20]\n",
    "\n",
    "robot = env.unwrapped.robot\n",
    "obs, info = env.reset()\n",
    "\n",
    "robot.robot_body.reset_orientation(torch.Tensor([ 0.,    -0.404,  0.,     0.915]))\n",
    "\n",
    "img = plt.imshow(env.render())\n",
    "for state in seq:\n",
    "    img.set_data(env.render())\n",
    "    display.display(plt.gcf())\n",
    "    display.clear_output(wait=True)\n",
    "\n",
    "    state_o = state[:4]\n",
    "    state_j = state[4:].reshape(6,2)\n",
    "\n",
    "    # robot.robot_body.reset_position([20.705,  0.,     0.962])\n",
    "    # robot.robot_body.reset_position([0,0,0])\n",
    "    # robot.robot_body.reset_orientation([ 0.,    -0.403,  0.,     0.915])\n",
    "\n",
    "    # for j, (angle, vel) in zip(robot.ordered_joints, state_j):\n",
    "    #     # j.set_state(angle, 0)\n",
    "        # j.set_state(angle,vel)\n",
    "\n",
    "    time.sleep(0.1)\n",
    "\n",
    "joints = env.unwrapped.robot.ordered_joints\n",
    "\n",
    "# print(env.unwrapped.robot_body.pose().rpy())\n",
    "for j in joints:\n",
    "    print(j.get_state())\n"
   ]
  },
  {
   "cell_type": "markdown",
   "id": "db82f410",
   "metadata": {},
   "source": [
    "### Train sequence prediction transformer"
   ]
  },
  {
   "cell_type": "code",
   "execution_count": 5,
   "id": "bc0416a5",
   "metadata": {},
   "outputs": [
    {
     "name": "stderr",
     "output_type": "stream",
     "text": [
      "/home/ronan/miniforge3/envs/exoskeleton/lib/python3.13/site-packages/torch/nn/modules/transformer.py:386: UserWarning: enable_nested_tensor is True, but self.use_nested_tensor is False because encoder_layer.self_attn.batch_first was not True(use batch_first for better inference performance)\n",
      "  warnings.warn(\n"
     ]
    }
   ],
   "source": [
    "class SinusoidalPosEmb(nn.Module):\n",
    "    def __init__(self, dim):\n",
    "        super().__init__()\n",
    "        self.dim = dim\n",
    "\n",
    "    def forward(self, x, start):\n",
    "        \"\"\"\n",
    "        x: (batch, seq_len, dim)\n",
    "        \"\"\"\n",
    "        device = x.device  # Get the device from the input tensor\n",
    "        batch_size, seq_len, dim = x.size()  # batch_size, seq_len, dim\n",
    "        half_dim = self.dim // 2  # We divide the dim into two halves for sin/cos\n",
    "\n",
    "        # Create a position tensor from 0 to seq_len-1\n",
    "        position = torch.arange(start, start+seq_len, device=device).float()  # (seq_len,)\n",
    "\n",
    "        # Create div_term for sinusoidal encoding\n",
    "        div_term = torch.exp(torch.arange(0, half_dim, 1, device=device).float() * -(math.log(10000.0) / half_dim))  # (half_dim,)\n",
    "\n",
    "        # Calculate sinusoidal embeddings: sin and cos\n",
    "        pe = position.unsqueeze(1) * div_term.unsqueeze(0)  # (seq_len, half_dim)\n",
    "        pe = torch.cat((pe.sin(), pe.cos()), dim=-1)  # (seq_len, dim)\n",
    "\n",
    "        # Expand to match batch size\n",
    "        pe = pe.unsqueeze(0)  # (1, seq_len, dim)\n",
    "        pe = pe.expand(batch_size, -1, -1)  # (batch_size, seq_len, dim)\n",
    "\n",
    "        return pe.to(device)  # Make sure it's on the same device as x\n",
    "\n",
    "\n",
    "class WalkerTransformer(nn.Module):\n",
    "    def __init__(self, d_model=512, nhead=4, num_layers=4, dropout=0.1, betas=(0.9, 0.95), weight_decay=0.01):\n",
    "        super().__init__()\n",
    "\n",
    "        # Embedding layers for tool positions and T's position\n",
    "        self.state_embed = nn.Linear(16, d_model)  # (x, y) → d_model\n",
    "\n",
    "        # Position embedding\n",
    "        self.pe = SinusoidalPosEmb(d_model)\n",
    "\n",
    "        # Transformer Encoder\n",
    "        encoder_layer = nn.TransformerEncoderLayer(d_model=d_model, nhead=nhead)\n",
    "        self.encoder = nn.TransformerEncoder(encoder_layer, num_layers=num_layers)\n",
    "\n",
    "        # Transformer Decoder\n",
    "        decoder_layer = nn.TransformerDecoderLayer(d_model=d_model, nhead=nhead,dropout=dropout)\n",
    "        self.decoder = nn.TransformerDecoder(decoder_layer, num_layers=num_layers)\n",
    "\n",
    "        # Output layer to predict next (x, y) positions\n",
    "        self.fc_out = nn.Linear(d_model, 16)\n",
    "\n",
    "    def forward(self, state_past, state_future=None):\n",
    "      batch_size = state_past.shape[0]\n",
    "      device = state_past.device\n",
    "\n",
    "      # Encoder: Process past tool positions and T's position\n",
    "      state_past_emb = self.state_embed(state_past[:,-1,:])  # (batch, d_model)\n",
    "      state_past_emb = state_past_emb.unsqueeze(1) # (batch, 1, d_model)\n",
    "\n",
    "      state_past_emb += self.pe(state_past_emb, 0)  # Add positional encoding\n",
    "      state_past_emb = state_past_emb.permute(1, 0, 2)  # (1, batch, d_model)\n",
    "\n",
    "      memory_input = state_past_emb\n",
    "      memory = self.encoder(memory_input)\n",
    "\n",
    "\n",
    "      # T's position (sequence)\n",
    "    #   t_emb = self.t_embed(t_position[:,-1,:])  # (batch, t_seq_len, d_model), e.g., (batch, 1, d_model)\n",
    "    #   t_emb = t_emb.unsqueeze(1)\n",
    "    #   t_emb = t_emb.permute(1, 0, 2)  # (t_seq_len, batch, d_model), e.g., (1, batch, d_model)\n",
    "\n",
    "    #   memory_input = t_emb # (1, batch, d_model)\n",
    "    #   memory = self.encoder(memory_input)  # (1, batch, d_model)\n",
    "\n",
    "      if state_future is not None:\n",
    "          # Training mode: Use teacher forcing with the ground truth sequence\n",
    "          state_future_emb = self.state_embed(state_future[:, :7, :])  # (batch, 7, d_model)\n",
    "          state_future_emb += self.pe(state_future_emb,1)\n",
    "          state_future_emb = state_future_emb.permute(1, 0, 2)  # (7, batch, d_model)\n",
    "          seq_len = state_future_emb.shape[0]  # 7\n",
    "          causal_mask = torch.triu(torch.ones(seq_len+1, seq_len+1, device=device), diagonal=1).bool() # tool_past + tool_future\n",
    "\n",
    "          path = torch.cat([state_past_emb, state_future_emb], dim=0)\n",
    "        #   path = state_future_emb\n",
    "\n",
    "          output = self.decoder(path, memory.expand(seq_len+1, -1, -1), tgt_mask=causal_mask)\n",
    "          output = self.fc_out(output).permute(1, 0, 2)  # (batch, 16, 2)\n",
    "          return output[:,:,:]\n",
    "      else:\n",
    "          # Inference mode: Generate autoregressively\n",
    "          current_pos = state_past[:, -1:, :]  # Start with the last tool position (batch, 1, 2)\n",
    "          state_future_emb = self.state_embed(current_pos)  # (batch, 1, d_model)\n",
    "          state_future_emb += self.pe(state_future_emb,0)\n",
    "          state_future_emb = state_future_emb.permute(1, 0, 2)  # (1, batch, d_model)\n",
    "          generated = []\n",
    "\n",
    "          for step in range(8):  # Generate 8 steps\n",
    "              seq_len = state_future_emb.shape[0]  # Current sequence length\n",
    "              # Create a causal mask: upper triangle is blocked\n",
    "              causal_mask = torch.triu(torch.ones(seq_len, seq_len), diagonal=1).bool().to(device)\n",
    "              # Pass the sequence and mask to the decoder\n",
    "\n",
    "              output = self.decoder(state_future_emb, memory.expand(seq_len, -1, -1), tgt_mask=causal_mask) # (seq_len,batch,d_model)\n",
    "              # Use the last output to predict the next token\n",
    "              next_pos = self.fc_out(output[-1]).unsqueeze(0) # (1,batch,d_model)\n",
    "              generated.append(next_pos) # (seq_len-1,batch,d_model)\n",
    "              # Append the new token to the sequence (with embeddings and positional encoding)\n",
    "              next_emb = self.state_embed(next_pos.permute(1, 0, 2)) # (batch, 1, d_model)\n",
    "              next_emb += self.pe(next_emb,seq_len)[:, :1, :]  # Positional encoding for current step\n",
    "              state_future_emb = torch.cat((state_future_emb, next_emb.permute(1,0,2)), dim=0) # (seq_len, batch, d_model)\n",
    "\n",
    "          # Combine all generated steps\n",
    "          generated = torch.cat(generated, dim=0).permute(1, 0, 2)  # (batch, 16, 2)\n",
    "          return generated[:,:,:]\n",
    "\n",
    "device = \"cuda\" if torch.cuda.is_available() else \"cpu\"\n",
    "model = WalkerTransformer().to(device)\n",
    "epoch = 0"
   ]
  },
  {
   "cell_type": "code",
   "execution_count": 6,
   "id": "79d91303",
   "metadata": {},
   "outputs": [
    {
     "data": {
      "application/vnd.jupyter.widget-view+json": {
       "model_id": "4cdbc1c8572e4d4b9a6764b3adbe006c",
       "version_major": 2,
       "version_minor": 0
      },
      "text/plain": [
       "Training Batch:   0%|          | 0/610 [00:00<?, ?it/s]"
      ]
     },
     "metadata": {},
     "output_type": "display_data"
    },
    {
     "name": "stderr",
     "output_type": "stream",
     "text": [
      "/tmp/ipykernel_26419/1071558864.py:31: UserWarning: Converting a tensor with requires_grad=True to a scalar may lead to unexpected behavior.\n",
      "Consider using tensor.detach() first. (Triggered internally at /home/ronan/Documents/github/pytorch/aten/src/ATen/native/Scalar.cpp:22.)\n",
      "  train_loss += loss.item()\n"
     ]
    },
    {
     "name": "stdout",
     "output_type": "stream",
     "text": [
      "Epoch: 0 | Train Loss: 149.1711 | Validation Loss: 115.4230\n",
      "Current Learning Rate: 0.00009939\n"
     ]
    },
    {
     "data": {
      "application/vnd.jupyter.widget-view+json": {
       "model_id": "9fe8ebb74bd74b6e989a92ac380686e9",
       "version_major": 2,
       "version_minor": 0
      },
      "text/plain": [
       "Training Batch:   0%|          | 0/610 [00:00<?, ?it/s]"
      ]
     },
     "metadata": {},
     "output_type": "display_data"
    },
    {
     "name": "stdout",
     "output_type": "stream",
     "text": [
      "Epoch: 1 | Train Loss: 112.1708 | Validation Loss: 115.5241\n",
      "Current Learning Rate: 0.00009758\n"
     ]
    },
    {
     "data": {
      "application/vnd.jupyter.widget-view+json": {
       "model_id": "3b5e80f017fd4c0e90bde6f2f888858b",
       "version_major": 2,
       "version_minor": 0
      },
      "text/plain": [
       "Training Batch:   0%|          | 0/610 [00:00<?, ?it/s]"
      ]
     },
     "metadata": {},
     "output_type": "display_data"
    },
    {
     "name": "stdout",
     "output_type": "stream",
     "text": [
      "Epoch: 2 | Train Loss: 104.4260 | Validation Loss: 105.2201\n",
      "Current Learning Rate: 0.00009460\n"
     ]
    },
    {
     "data": {
      "application/vnd.jupyter.widget-view+json": {
       "model_id": "27aa45d0fe424dbd83d29e70fdf7c6c3",
       "version_major": 2,
       "version_minor": 0
      },
      "text/plain": [
       "Training Batch:   0%|          | 0/610 [00:00<?, ?it/s]"
      ]
     },
     "metadata": {},
     "output_type": "display_data"
    },
    {
     "ename": "KeyboardInterrupt",
     "evalue": "",
     "output_type": "error",
     "traceback": [
      "\u001b[31m---------------------------------------------------------------------------\u001b[39m",
      "\u001b[31mKeyboardInterrupt\u001b[39m                         Traceback (most recent call last)",
      "\u001b[36mCell\u001b[39m\u001b[36m \u001b[39m\u001b[32mIn[6]\u001b[39m\u001b[32m, line 31\u001b[39m\n\u001b[32m     28\u001b[39m         loss.backward()\n\u001b[32m     29\u001b[39m         optimizer.step()\n\u001b[32m---> \u001b[39m\u001b[32m31\u001b[39m         train_loss += \u001b[43mloss\u001b[49m\u001b[43m.\u001b[49m\u001b[43mitem\u001b[49m\u001b[43m(\u001b[49m\u001b[43m)\u001b[49m\n\u001b[32m     33\u001b[39m \u001b[38;5;66;03m# Average training loss\u001b[39;00m\n\u001b[32m     34\u001b[39m avg_train_loss = train_loss / \u001b[38;5;28mlen\u001b[39m(walker_train_dataloader)\n",
      "\u001b[31mKeyboardInterrupt\u001b[39m: "
     ]
    }
   ],
   "source": [
    "import torch.optim as optim\n",
    "from torch.optim.lr_scheduler import CosineAnnealingLR\n",
    "from tqdm.auto import tqdm\n",
    "\n",
    "optimizer = optim.AdamW(model.parameters(), lr=1e-4)\n",
    "criterion = nn.MSELoss()\n",
    "\n",
    "t_losses = []\n",
    "v_losses = []\n",
    "\n",
    "scheduler = CosineAnnealingLR(optimizer, T_max=20, eta_min=10e-7)  # T_max is the number of iterations for the decay\n",
    "epoch = 0\n",
    "for epoch in range(epoch, epoch + 100):\n",
    "\n",
    "    # Training phase\n",
    "    model.train()  # Set model to training mode\n",
    "    train_loss = 0.0\n",
    "\n",
    "    with tqdm(walker_train_dataloader, desc='Training Batch', leave=False) as tepoch:\n",
    "        for batch in tepoch:\n",
    "            tool_past = batch['state'][:,:4,:].float().to(device)  # the last two actions\n",
    "            tool_future = batch['state'][:,4:,:].float().to(device)  # the future actions\n",
    "\n",
    "            # Training step\n",
    "            optimizer.zero_grad()\n",
    "            pred_future = model(tool_past, tool_future)\n",
    "            loss = criterion(pred_future[:, :4, :], tool_future[:, :4, :])\n",
    "            loss.backward()\n",
    "            optimizer.step()\n",
    "\n",
    "            train_loss += loss.item()\n",
    "\n",
    "    # Average training loss\n",
    "    avg_train_loss = train_loss / len(walker_train_dataloader)\n",
    "\n",
    "    # Validation phase\n",
    "    model.eval()  # Set model to evaluatSion mode\n",
    "    val_loss = 0.0\n",
    "\n",
    "    with torch.no_grad():  # No gradients needed for validation\n",
    "        for batch in walker_val_dataloader:\n",
    "            tool_past = batch['state'][:,:4,:].float().to(device)  # the last two actions\n",
    "            tool_future = batch['state'][:,4:,:].float().to(device)  # the future actions\n",
    "\n",
    "            # Validation step\n",
    "            pred_future = model(tool_past, tool_future)\n",
    "            loss = criterion(pred_future[:, :4, :], tool_future[:, :4, :])\n",
    "            val_loss += loss.item()\n",
    "\n",
    "    avg_val_loss = val_loss / len(walker_val_dataloader)     # Average validation loss\n",
    "\n",
    "    scheduler.step() # Step the scheduler \n",
    "\n",
    "    # Print stats for the epoch\n",
    "    print(f\"Epoch: {epoch} | Train Loss: {avg_train_loss * 1000:.4f} | Validation Loss: {avg_val_loss * 1000:.4f}\")\n",
    "    t_losses.append(avg_train_loss * 1000)\n",
    "    v_losses.append(avg_val_loss)\n",
    "\n",
    "    # Print current learning rate\n",
    "    for param_group in optimizer.param_groups:\n",
    "        print(f\"Current Learning Rate: {param_group['lr']:.8f}\")"
   ]
  },
  {
   "cell_type": "code",
   "execution_count": null,
   "id": "d1fb74f6",
   "metadata": {},
   "outputs": [],
   "source": [
    "torch.save(model.state_dict(), \"./walker_predictor_bad_walker.pt\")"
   ]
  },
  {
   "cell_type": "code",
   "execution_count": null,
   "id": "9bf311c6",
   "metadata": {},
   "outputs": [
    {
     "data": {
      "text/plain": [
       "[]"
      ]
     },
     "execution_count": 367,
     "metadata": {},
     "output_type": "execute_result"
    },
    {
     "data": {
      "image/png": "[encoded data removed]",
      "text/plain": [
       "<Figure size 640x480 with 1 Axes>"
      ]
     },
     "metadata": {},
     "output_type": "display_data"
    }
   ],
   "source": [
    "plt.figure()\n",
    "plt.plot(np.arange(len(v_losses)), v_losses)\n",
    "plt.plot(np.arange(len(t_losses)), t_losses)\n",
    "plt.plot()"
   ]
  },
  {
   "cell_type": "code",
   "execution_count": null,
   "id": "5110f479",
   "metadata": {},
   "outputs": [
    {
     "name": "stdout",
     "output_type": "stream",
     "text": [
      "[]\n",
      "[]\n",
      "[]\n"
     ]
    },
    {
     "data": {
      "text/plain": [
       "<Axes: >"
      ]
     },
     "execution_count": 378,
     "metadata": {},
     "output_type": "execute_result"
    },
    {
     "data": {
      "image/png": "[encoded data removed]",
      "text/plain": [
       "<Figure size 640x480 with 1 Axes>"
      ]
     },
     "metadata": {},
     "output_type": "display_data"
    }
   ],
   "source": [
    "v_losses_good_walker = v_losses\n",
    "t_losses_good_walker = t_losses\n",
    "\n",
    "print(v_losses_good_walker)\n",
    "print(t_losses_good_walker)\n",
    "\n",
    "print(v_losses)\n"
   ]
  },
  {
   "cell_type": "markdown",
   "id": "c91b9d54",
   "metadata": {},
   "source": [
    "# Tutorial stuff\n",
    "Following this:\n",
    "https://medium.com/correll-lab/robotic-behavior-cloning-i-auto-regressive-transformers-a7be623f4291\n",
    "\n",
    "for this, installed gdown and zarr, which in turn installed\n",
    "\n",
    "PySocks, soupsieve, beautifulsoup4, numcodecs, donfig, crc32c"
   ]
  },
  {
   "cell_type": "code",
   "execution_count": 1,
   "id": "259579af",
   "metadata": {},
   "outputs": [
    {
     "name": "stderr",
     "output_type": "stream",
     "text": [
      "Downloading...\n",
      "From: https://drive.google.com/uc?id=1KY1InLurpMvJDRb14L9NlXT_fEsCvVUq&confirm=t\n",
      "To: /home/ronan/Documents/github/exoskeleton/pusht_cchi_v7_replay.zarr.zip\n",
      "100%|██████████| 31.1M/31.1M [00:00<00:00, 88.7MB/s]\n"
     ]
    }
   ],
   "source": [
    "import os # to deal with files\n",
    "import gdown # to download from google drive\n",
    "import zipfile # to unzip\n",
    "\n",
    "# download demonstration data from Google Drive\n",
    "dataset_path = \"pusht_cchi_v7_replay.zarr.zip\"\n",
    "extracted_dataset_path = \"pusht_cchi_v7_replay.zarr\"  # Path to extracted dataset\n",
    "\n",
    "if not os.path.isfile(dataset_path):\n",
    "    id = \"1KY1InLurpMvJDRb14L9NlXT_fEsCvVUq&confirm=t\"\n",
    "    gdown.download(id=id, output=dataset_path, quiet=False)\n",
    "\n",
    "# Extract the dataset if it hasn't been extracted yet\n",
    "if not os.path.isdir(extracted_dataset_path):\n",
    "    with zipfile.ZipFile(dataset_path, 'r') as zip_ref:\n",
    "        zip_ref.extractall(extracted_dataset_path)"
   ]
  },
  {
   "cell_type": "code",
   "execution_count": 144,
   "id": "3ebafae5",
   "metadata": {},
   "outputs": [],
   "source": [
    "import zarr # to load the dataset\n",
    "import numpy as np\n",
    "import torch\n",
    "\n",
    "def create_sample_indices(\n",
    "        episode_ends:np.ndarray, sequence_length:int,\n",
    "        pad_before: int=0, pad_after: int=0):\n",
    "    indices = list()\n",
    "    for i in range(len(episode_ends)):\n",
    "        start_idx = 0\n",
    "        if i > 0:\n",
    "            start_idx = episode_ends[i-1]\n",
    "        end_idx = episode_ends[i]\n",
    "        episode_length = end_idx - start_idx\n",
    "\n",
    "        min_start = -pad_before\n",
    "        max_start = episode_length - sequence_length + pad_after\n",
    "\n",
    "        # range stops one idx before end\n",
    "        for idx in range(min_start, max_start+1):\n",
    "            buffer_start_idx = max(idx, 0) + start_idx\n",
    "            buffer_end_idx = min(idx+sequence_length, episode_length) + start_idx\n",
    "            start_offset = buffer_start_idx - (idx+start_idx)\n",
    "            end_offset = (idx+sequence_length+start_idx) - buffer_end_idx\n",
    "            sample_start_idx = 0 + start_offset\n",
    "            sample_end_idx = sequence_length - end_offset\n",
    "            indices.append([\n",
    "                buffer_start_idx, buffer_end_idx,\n",
    "                sample_start_idx, sample_end_idx])\n",
    "    indices = np.array(indices)\n",
    "    return indices\n",
    "\n",
    "\n",
    "def sample_sequence(train_data, sequence_length,\n",
    "                    buffer_start_idx, buffer_end_idx,\n",
    "                    sample_start_idx, sample_end_idx):\n",
    "    result = dict()\n",
    "    for key, input_arr in train_data.items():\n",
    "        sample = input_arr[buffer_start_idx:buffer_end_idx]\n",
    "        data = sample\n",
    "        if (sample_start_idx > 0) or (sample_end_idx < sequence_length):\n",
    "            data = np.zeros(\n",
    "                shape=(sequence_length,) + input_arr.shape[1:],\n",
    "                dtype=input_arr.dtype)\n",
    "            if sample_start_idx > 0:\n",
    "                data[:sample_start_idx] = sample[0]\n",
    "            if sample_end_idx < sequence_length:\n",
    "                data[sample_end_idx:] = sample[-1]\n",
    "            data[sample_start_idx:sample_end_idx] = sample\n",
    "        result[key] = data\n",
    "    return result\n",
    "\n",
    "# normalize data\n",
    "def get_data_stats(data):\n",
    "    data = data.reshape(-1,data.shape[-1])\n",
    "    stats = {\n",
    "        'min': np.min(data, axis=0),\n",
    "        'max': np.max(data, axis=0)\n",
    "    }\n",
    "    return stats\n",
    "\n",
    "def normalize_data(data, stats):\n",
    "    # nomalize to [0,1]\n",
    "    ndata = (data - stats['min']) / (stats['max'] - stats['min'])\n",
    "    # normalize to [-1, 1]\n",
    "    ndata = ndata * 2 - 1\n",
    "    return ndata\n",
    "\n",
    "def unnormalize_data(ndata, stats):\n",
    "    ndata = (ndata + 1) / 2\n",
    "    data = ndata * (stats['max'] - stats['min']) + stats['min']\n",
    "    return data\n",
    "\n",
    "# dataset\n",
    "class PushTStateDataset(torch.utils.data.Dataset):\n",
    "    def __init__(self, dataset_path,\n",
    "                 pred_horizon, obs_horizon, action_horizon):\n",
    "\n",
    "        # read from zarr dataset\n",
    "        dataset_root = zarr.open(dataset_path, mode='r')\n",
    "        # All demonstration episodes are concatinated in the first dimension N\n",
    "        train_data = {\n",
    "            # (N, action_dim)\n",
    "            'action': dataset_root['data']['action'][:],\n",
    "            # (N, obs_dim)\n",
    "            'obs': dataset_root['data']['state'][:]\n",
    "        }\n",
    "        # Marks one-past the last index for each episode\n",
    "        episode_ends = dataset_root['meta']['episode_ends'][:]\n",
    "\n",
    "        # compute start and end of each state-action sequence\n",
    "        # also handles padding\n",
    "        indices = create_sample_indices(\n",
    "            episode_ends=episode_ends,\n",
    "            sequence_length=pred_horizon,\n",
    "            # add padding such that each timestep in the dataset are seen\n",
    "            pad_before=obs_horizon-1,\n",
    "            pad_after=action_horizon-1)\n",
    "\n",
    "        # compute statistics and normalized data to [-1,1]\n",
    "        stats = dict()\n",
    "        normalized_train_data = dict()\n",
    "        for key, data in train_data.items():\n",
    "            stats[key] = get_data_stats(data)\n",
    "            normalized_train_data[key] = normalize_data(data, stats[key])\n",
    "\n",
    "        self.indices = indices\n",
    "        self.stats = stats\n",
    "        self.normalized_train_data = normalized_train_data\n",
    "        self.pred_horizon = pred_horizon\n",
    "        self.action_horizon = action_horizon\n",
    "        self.obs_horizon = obs_horizon\n",
    "\n",
    "    def __len__(self):\n",
    "        # all possible segments of the dataset\n",
    "        return len(self.indices)\n",
    "\n",
    "    def __getitem__(self, idx):\n",
    "        # get the start/end indices for this datapoint\n",
    "        buffer_start_idx, buffer_end_idx, \\\n",
    "            sample_start_idx, sample_end_idx = self.indices[idx]\n",
    "\n",
    "        # get nomralized data using these indices\n",
    "        nsample = sample_sequence(\n",
    "            train_data=self.normalized_train_data,\n",
    "            sequence_length=self.pred_horizon,\n",
    "            buffer_start_idx=buffer_start_idx,\n",
    "            buffer_end_idx=buffer_end_idx,\n",
    "            sample_start_idx=sample_start_idx,\n",
    "            sample_end_idx=sample_end_idx\n",
    "        )\n",
    "\n",
    "        # discard unused observations\n",
    "        nsample['obs'] = nsample['obs'][:self.obs_horizon,:]\n",
    "        return nsample"
   ]
  },
  {
   "cell_type": "code",
   "execution_count": 150,
   "id": "2c3717f4",
   "metadata": {},
   "outputs": [
    {
     "name": "stdout",
     "output_type": "stream",
     "text": [
      "batch['obs'].shape: torch.Size([64, 2, 5])\n",
      "batch['action'].shape torch.Size([64, 16, 2])\n"
     ]
    }
   ],
   "source": [
    "from torch.utils.data import random_split\n",
    "\n",
    "# parameters\n",
    "pred_horizon = 16\n",
    "obs_horizon = 2\n",
    "action_horizon = 8\n",
    "#|o|o|                             observations: 2\n",
    "#| |a|a|a|a|a|a|a|a|               actions executed: 8\n",
    "#|p|p|p|p|p|p|p|p|p|p|p|p|p|p|p|p| actions predicted: 16\n",
    "\n",
    "# create dataset from file\n",
    "dataset = PushTStateDataset(\n",
    "    dataset_path=\"pusht_cchi_v7_replay.zarr\",\n",
    "    pred_horizon=pred_horizon,\n",
    "    obs_horizon=obs_horizon,\n",
    "    action_horizon=action_horizon\n",
    ")\n",
    "# save training data statistics (min, max) for each dim\n",
    "stats = dataset.stats\n",
    "\n",
    "train_size = int(0.8 * len(dataset))\n",
    "val_size = len(dataset) - train_size  # Ensure all samples are used\n",
    "\n",
    "train_dataset, val_dataset = random_split(dataset, [train_size, val_size])\n",
    "\n",
    "# create dataloaders\n",
    "dataloader = torch.utils.data.DataLoader(\n",
    "    train_dataset,\n",
    "    batch_size=64,\n",
    "    num_workers=1,\n",
    "    shuffle=True, # set this to False to visualize the dataset\n",
    "    # accelerate cpu-gpu transfer\n",
    "    pin_memory=True,\n",
    "    # don't kill worker process afte each epoch\n",
    "    persistent_workers=True\n",
    ")\n",
    "\n",
    "val_dataloader = torch.utils.data.DataLoader(\n",
    "    val_dataset,\n",
    "    batch_size=64,\n",
    "    num_workers=1,\n",
    "    shuffle=False, # set this to False to visualize the dataset\n",
    "    # accelerate cpu-gpu transfer\n",
    "    pin_memory=True,\n",
    "    # don't kill worker process afte each epoch\n",
    "    persistent_workers=True\n",
    ")\n",
    "\n",
    "\n",
    "# visualize data in batch\n",
    "batch = next(iter(val_dataloader))\n",
    "print(\"batch['obs'].shape:\", batch['obs'].shape)\n",
    "print(\"batch['action'].shape\", batch['action'].shape)"
   ]
  },
  {
   "cell_type": "code",
   "execution_count": 185,
   "id": "c0c1c33d",
   "metadata": {},
   "outputs": [
    {
     "name": "stdout",
     "output_type": "stream",
     "text": [
      "dict_keys(['action', 'obs'])\n",
      "(16, 2)\n",
      "(2, 5)\n"
     ]
    }
   ],
   "source": [
    "# tool_past = batch['obs']\n",
    "# t_position = torch.cat((batch[\"obs\"][...,:-1],\n",
    "#                         torch.sin(batch[\"obs\"][...,-1]).unsqueeze(-1),\n",
    "#                         torch.cos(batch[\"obs\"][...,-1]).unsqueeze(-1)),\n",
    "#                         dim=-1)[:,:,2:]\n",
    "# tool_future = batch['action']\n",
    "\n",
    "# print(f'{tool_past.shape=}')\n",
    "# print(f'{t_position.shape=}')\n",
    "# print(f'{tool_future.shape=}')\n",
    "\n",
    "print(dataset[0].keys())\n",
    "print(dataset[0]['action'].shape)\n",
    "print(dataset[0]['obs'].shape)"
   ]
  },
  {
   "cell_type": "code",
   "execution_count": 29,
   "id": "5f5f7c75",
   "metadata": {},
   "outputs": [
    {
     "name": "stdout",
     "output_type": "stream",
     "text": [
      "['meta', 'data']\n",
      "['action', 'img', 'keypoint', 'state', 'n_contacts']\n",
      "['episode_ends']\n",
      "dataset_root['data']['state'] = <Array file://pusht_cchi_v7_replay.zarr/data/state shape=(25650, 5) dtype=float32>\n",
      "dataset_root['data']['action'] = <Array file://pusht_cchi_v7_replay.zarr/data/action shape=(25650, 2) dtype=float32>\n",
      "dataset_root['meta']['episode_ends'] = <Array file://pusht_cchi_v7_replay.zarr/meta/episode_ends shape=(206,) dtype=int64>\n",
      "dataset_root['data']['img'] = <Array file://pusht_cchi_v7_replay.zarr/data/img shape=(25650, 96, 96, 3) dtype=float32>\n",
      "<Array file://pusht_cchi_v7_replay.zarr/meta/episode_ends shape=(206,) dtype=int64>\n"
     ]
    }
   ],
   "source": [
    "print(list(dataset_root.keys()))\n",
    "print(list(dataset_root['data'].keys()))\n",
    "print(list(dataset_root['meta'].keys()))\n",
    "\n",
    "print(f'{dataset_root['data']['state'] = }')\n",
    "print(f'{dataset_root['data']['action'] = }')\n",
    "print(f'{dataset_root['meta']['episode_ends'] = }') # 206 episode ends\n",
    "print(f'{dataset_root['data']['img'] = }')\n",
    "\n",
    "print(f'{dataset_root['meta']['episode_ends']}')"
   ]
  }
 ],
 "metadata": {
  "kernelspec": {
   "display_name": "exoskeleton",
   "language": "python",
   "name": "python3"
  },
  "language_info": {
   "codemirror_mode": {
    "name": "ipython",
    "version": 3
   },
   "file_extension": ".py",
   "mimetype": "text/x-python",
   "name": "python",
   "nbconvert_exporter": "python",
   "pygments_lexer": "ipython3",
   "version": "3.13.3"
  }
 },
 "nbformat": 4,
 "nbformat_minor": 5
}
