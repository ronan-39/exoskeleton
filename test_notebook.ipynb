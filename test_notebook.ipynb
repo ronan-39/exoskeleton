{
 "cells": [
  {
   "cell_type": "code",
   "execution_count": 1,
   "id": "5f067aba",
   "metadata": {},
   "outputs": [
    {
     "name": "stdout",
     "output_type": "stream",
     "text": [
      "i want to see how papermill works\n",
      "10 seconds has passed...\n"
     ]
    }
   ],
   "source": [
    "print(\"i want to see how papermill works\")\n",
    "\n",
    "import time\n",
    "time.sleep(10)\n",
    "print(\"10 seconds has passed...\")"
   ]
  }
 ],
 "metadata": {
  "kernelspec": {
   "display_name": "exoskeleton",
   "language": "python",
   "name": "python3"
  },
  "language_info": {
   "codemirror_mode": {
    "name": "ipython",
    "version": 3
   },
   "file_extension": ".py",
   "mimetype": "text/x-python",
   "name": "python",
   "nbconvert_exporter": "python",
   "pygments_lexer": "ipython3",
   "version": "3.13.3"
  }
 },
 "nbformat": 4,
 "nbformat_minor": 5
}
