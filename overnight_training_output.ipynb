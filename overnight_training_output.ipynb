{
 "cells": [
  {
   "cell_type": "code",
   "execution_count": 1,
   "id": "4e5d3f7c",
   "metadata": {
    "execution": {
     "iopub.execute_input": "2025-05-12T07:46:44.026441Z",
     "iopub.status.busy": "2025-05-12T07:46:44.026267Z",
     "iopub.status.idle": "2025-05-12T07:46:45.512763Z",
     "shell.execute_reply": "2025-05-12T07:46:45.512207Z"
    },
    "papermill": {
     "duration": 1.492442,
     "end_time": "2025-05-12T07:46:45.513643",
     "exception": false,
     "start_time": "2025-05-12T07:46:44.021201",
     "status": "completed"
    },
    "tags": []
   },
   "outputs": [],
   "source": [
    "import os\n",
    "os.environ[\"MUJOCO_GL\"] = \"egl\"\n",
    "from IPython import display\n",
    "\n",
    "import time\n",
    "import gymnasium as gym\n",
    "import numpy as np\n",
    "import mediapy as media\n",
    "import matplotlib.pyplot as plt\n",
    "import xml.etree.ElementTree as ET\n",
    "import matplotlib.pyplot as plt\n",
    "import random\n",
    "import pybullet_envs_gymnasium as envs\n",
    "\n",
    "from stable_baselines3 import SAC # if this doesnt work, uninstall reinstall torch\n",
    "from stable_baselines3.common.env_util import make_vec_env\n",
    "\n",
    "\n",
    "np.set_printoptions(precision=3, suppress=True, linewidth=100)"
   ]
  },
  {
   "cell_type": "code",
   "execution_count": 2,
   "id": "c95ff8e3",
   "metadata": {
    "execution": {
     "iopub.execute_input": "2025-05-12T07:46:45.516164Z",
     "iopub.status.busy": "2025-05-12T07:46:45.515905Z",
     "iopub.status.idle": "2025-05-12T07:46:45.523158Z",
     "shell.execute_reply": "2025-05-12T07:46:45.522689Z"
    },
    "papermill": {
     "duration": 0.009251,
     "end_time": "2025-05-12T07:46:45.523911",
     "exception": false,
     "start_time": "2025-05-12T07:46:45.514660",
     "status": "completed"
    },
    "tags": []
   },
   "outputs": [
    {
     "name": "stderr",
     "output_type": "stream",
     "text": [
      "pybullet build time: May 12 2025 02:32:36\n"
     ]
    }
   ],
   "source": [
    "env_name = \"Walker2DBulletEnv-v0\"\n",
    "env = gym.make(env_name, render_mode='rgb_array')"
   ]
  },
  {
   "cell_type": "code",
   "execution_count": 3,
   "id": "2be9ccb4",
   "metadata": {
    "execution": {
     "iopub.execute_input": "2025-05-12T07:46:45.526245Z",
     "iopub.status.busy": "2025-05-12T07:46:45.526068Z",
     "shell.execute_reply": "2025-05-12T10:07:42.772762Z"
    },
    "papermill": {
     "duration": 8462.005131,
     "end_time": "2025-05-12T10:07:47.529915",
     "exception": false,
     "start_time": "2025-05-12T07:46:45.524784",
     "status": "completed"
    },
    "tags": []
   },
   "outputs": [
    {
     "data": {
      "application/vnd.jupyter.widget-view+json": {
       "model_id": "a10d4a6731874e948a18a16031897b59",
       "version_major": 2,
       "version_minor": 0
      },
      "text/plain": [
       "Output()"
      ]
     },
     "metadata": {},
     "output_type": "display_data"
    },
    {
     "data": {
      "text/html": [
       "<pre style=\"white-space:pre;overflow-x:auto;line-height:normal;font-family:Menlo,'DejaVu Sans Mono',consolas,'Courier New',monospace\">/home/ronan/miniforge3/envs/exoskeleton/lib/python3.13/site-packages/stable_baselines3/sac/sac.py:233: UserWarning:\n",
       "Converting a tensor with requires_grad=True to a scalar may lead to unexpected behavior.\n",
       "Consider using tensor.detach() first. (Triggered internally at \n",
       "/home/ronan/Documents/github/pytorch/aten/src/ATen/native/Scalar.cpp:22.)\n",
       "  ent_coef_losses.append(ent_coef_loss.item())\n",
       "</pre>\n"
      ],
      "text/plain": [
       "/home/ronan/miniforge3/envs/exoskeleton/lib/python3.13/site-packages/stable_baselines3/sac/sac.py:233: UserWarning:\n",
       "Converting a tensor with requires_grad=True to a scalar may lead to unexpected behavior.\n",
       "Consider using tensor.detach() first. (Triggered internally at \n",
       "/home/ronan/Documents/github/pytorch/aten/src/ATen/native/Scalar.cpp:22.)\n",
       "  ent_coef_losses.append(ent_coef_loss.item())\n"
      ]
     },
     "metadata": {},
     "output_type": "display_data"
    }
   ],
   "source": [
    "model = SAC(\n",
    "    \"MlpPolicy\",\n",
    "    env,\n",
    "    tensorboard_log=\"./sac_logs/\"\n",
    ")\n",
    "\n",
    "model.learn(total_timesteps=1_000_000, progress_bar=True)\n",
    "model.save(\"million_steps_run\")\n",
    "print(\"finished training and saved run\")"
   ]
  },
  {
   "cell_type": "code",
   "execution_count": null,
   "id": "4c73752f",
   "metadata": {
    "papermill": {
     "duration": null,
     "end_time": null,
     "exception": null,
     "start_time": null,
     "status": "completed"
    },
    "tags": []
   },
   "outputs": [],
   "source": [
    "# obs, info = env.reset()\n",
    "# img = plt.imshow(env.render())\n",
    "# for _ in range(1000):\n",
    "#     img.set_data(env.render())\n",
    "#     display.display(plt.gcf())\n",
    "#     display.clear_output(wait=True)\n",
    "#     action, _states = model.predict(obs, deterministic=True)\n",
    "#     obs, reward, done, truncated, info = env.step(action)"
   ]
  },
  {
   "cell_type": "code",
   "execution_count": null,
   "id": "da98fc01",
   "metadata": {
    "papermill": {
     "duration": null,
     "end_time": null,
     "exception": null,
     "start_time": null,
     "status": "completed"
    },
    "tags": []
   },
   "outputs": [],
   "source": [
    "print(dir(model))\n",
    "print(model.tensorboard_log)\n",
    "print(model.logger)"
   ]
  }
 ],
 "metadata": {
  "kernelspec": {
   "display_name": "exoskeleton",
   "language": "python",
   "name": "python3"
  },
  "language_info": {
   "codemirror_mode": {
    "name": "ipython",
    "version": 3
   },
   "file_extension": ".py",
   "mimetype": "text/x-python",
   "name": "python",
   "nbconvert_exporter": "python",
   "pygments_lexer": "ipython3",
   "version": "3.13.3"
  },
  "papermill": {
   "default_parameters": {},
   "duration": 8465.370821,
   "end_time": "2025-05-12T10:07:48.448371",
   "environment_variables": {},
   "exception": null,
   "input_path": "./train_pybullet_walker.ipynb",
   "output_path": "./overnight_training_output.ipynb",
   "parameters": {},
   "start_time": "2025-05-12T07:46:43.077550",
   "version": "2.6.0"
  }
 },
 "nbformat": 4,
 "nbformat_minor": 5
}